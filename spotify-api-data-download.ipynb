{
 "cells": [
  {
   "cell_type": "code",
   "execution_count": 9,
   "id": "8653bef9",
   "metadata": {},
   "outputs": [],
   "source": [
    "import requests\n",
    "import base64\n",
    "import pandas as pd\n",
    "import numpy as np\n",
    "import json"
   ]
  },
  {
   "cell_type": "code",
   "execution_count": 16,
   "id": "a58cf5d2",
   "metadata": {},
   "outputs": [],
   "source": [
    "with open('config.json', 'r') as f:\n",
    "    config = json.load(f)"
   ]
  },
  {
   "cell_type": "code",
   "execution_count": 17,
   "id": "30b919f9",
   "metadata": {},
   "outputs": [
    {
     "data": {
      "text/plain": [
       "{'CLIENT_ID': 'a7c0ec514e3d4382acfa62c3417957ee',\n",
       " 'CLIENT_SECRET': 'cb8a259b23d24d1aacd1d1b5b531bd08'}"
      ]
     },
     "execution_count": 17,
     "metadata": {},
     "output_type": "execute_result"
    }
   ],
   "source": []
  },
  {
   "cell_type": "code",
   "execution_count": 13,
   "id": "8cca637b",
   "metadata": {},
   "outputs": [],
   "source": [
    "CLIENT_ID = config['CLIENT_ID']\n",
    "CLIENT_SECRET = config"
   ]
  },
  {
   "cell_type": "markdown",
   "id": "ccdf674c",
   "metadata": {},
   "source": [
    "# POST"
   ]
  },
  {
   "cell_type": "code",
   "execution_count": 14,
   "id": "639ad4e8",
   "metadata": {},
   "outputs": [],
   "source": [
    "AUTH_URL = 'https://accounts.spotify.com/api/token'\n",
    "\n",
    "CLIENT_CREDENTIALS = f'{CLIENT_ID}:{CLIENT_SECRET}'\n",
    "CLIENT_CREDENTIALS_B64 = base64.b64encode(CLIENT_CREDENTIALS.encode())\n",
    "\n",
    "TOKEN_DATA = {\n",
    "    \"grant_type\": \"client_credentials\"\n",
    "}\n",
    "\n",
    "TOKEN_HEADERS = {\n",
    "    \"Authorization\": f\"Basic {CLIENT_CREDENTIALS_B64.decode()}\"\n",
    "}"
   ]
  },
  {
   "cell_type": "code",
   "execution_count": 20,
   "id": "4f359309",
   "metadata": {},
   "outputs": [],
   "source": [
    "REQUEST = requests.post(AUTH_URL, data = TOKEN_DATA, headers = TOKEN_HEADERS)\n",
    "response_data = REQUEST.json()\n",
    "access_token = response_data['access_token']\n",
    "expires_in = response_data['expires_in']"
   ]
  },
  {
   "cell_type": "code",
   "execution_count": 18,
   "id": "cfc41bbf",
   "metadata": {},
   "outputs": [
    {
     "data": {
      "text/plain": [
       "'BQCFreDAIYadiOjfmbjG3nbJL89z_EPJQ2fS6YrvzljeNAmuhT8QLBEjpT1W66l52MTpa8CyIVJgD2frN7hvNqN7RPtF5jbxJ1UGcVjLUVmwlgFBTf0'"
      ]
     },
     "execution_count": 18,
     "metadata": {},
     "output_type": "execute_result"
    }
   ],
   "source": [
    "access_token"
   ]
  },
  {
   "cell_type": "code",
   "execution_count": 21,
   "id": "73e17871",
   "metadata": {},
   "outputs": [
    {
     "data": {
      "text/plain": [
       "3600"
      ]
     },
     "execution_count": 21,
     "metadata": {},
     "output_type": "execute_result"
    }
   ],
   "source": [
    "expires_in"
   ]
  },
  {
   "cell_type": "markdown",
   "id": "17e15d31",
   "metadata": {},
   "source": [
    "# Spotipy"
   ]
  },
  {
   "cell_type": "code",
   "execution_count": 78,
   "id": "0dff7c90",
   "metadata": {},
   "outputs": [],
   "source": [
    "import spotipy\n",
    "from spotipy.oauth2 import SpotifyClientCredentials"
   ]
  },
  {
   "cell_type": "code",
   "execution_count": 79,
   "id": "a0eeeaaa",
   "metadata": {},
   "outputs": [],
   "source": [
    "# Authentication - without user\n",
    "client_credentials_manager = SpotifyClientCredentials(client_id=CLIENT_ID, client_secret=CLIENT_SECRET)\n",
    "sp = spotipy.Spotify(client_credentials_manager = client_credentials_manager)"
   ]
  },
  {
   "cell_type": "code",
   "execution_count": 80,
   "id": "2ec7107f",
   "metadata": {},
   "outputs": [],
   "source": [
    "# We get all tracks in a playlist\n",
    "playlist_link = \"https://open.spotify.com/playlist/0JNQmyPN5iA9e2iYNwE1wy?si=61bc088cae494503\"\n",
    "playlist_URI = playlist_link.split(\"/\")[-1].split(\"?\")[0]\n",
    "track_uris = [x[\"track\"][\"uri\"] for x in sp.playlist_tracks(playlist_URI)[\"items\"]]"
   ]
  },
  {
   "cell_type": "code",
   "execution_count": 81,
   "id": "16f857ad",
   "metadata": {
    "scrolled": true
   },
   "outputs": [
    {
     "name": "stdout",
     "output_type": "stream",
     "text": [
      "AVAION - Pieces\n",
      "SIDEPIECE - Together\n",
      "Kaskade - Turn It Down v3\n",
      "JLV - Chemical Days\n",
      "Swedish House Mafia - Redlight\n",
      "John Summit - Deep End - SIDEPIECE Remix\n",
      "ARTBAT - Horizon\n",
      "Michael Calfan - No Lie\n",
      "Jess Ball - Messed Up\n",
      "SOMMA - Body on Fire\n",
      "Nazzereene - Where I Belong\n",
      "Don Diablo - Bad\n",
      "Lost Frequencies - Where Are You Now\n",
      "Tinlicker - Because You Move Me\n",
      "Shouse - Love Tonight - David Guetta Remix Edit\n",
      "Sofi Tukker - Sun Came Up\n",
      "Hayden James - On Your Own (feat. Elderbrook)\n",
      "ACRAZE - Do It To It\n",
      "The Chainsmokers - High - Don Diablo Remix\n",
      "Ryan Shepherd - Never Give Up On You\n",
      "Dom Dolla - Strangers (with Mansionair)\n",
      "MIME - DO IT AGAIN\n",
      "Icona Pop - Off Of My Mind\n",
      "Martin Garrix - Pressure (feat. Tove Lo)\n",
      "EDX - Take Me Home (feat. Jess Ball)\n",
      "The Weeknd - Sacrifice\n",
      "Tim Morrison - Revolver\n",
      "Flume - Say Nothing (feat. MAY-A)\n",
      "MEDUZA - Tell It To My Heart\n",
      "Swedish House Mafia - Moth To A Flame (with The Weeknd)\n",
      "Dylan Jett - Red\n",
      "Elderbrook - Inner Light\n",
      "Nazzereene - That's How I Like It\n",
      "John Summit - Human (feat. Echoes)\n",
      "KREAM - Pressure\n",
      "BRONSON - HEART ATTACK (feat. lau.ra)\n",
      "Swedish House Mafia - Lifetime (with Ty Dolla $ign & 070 Shake)\n",
      "Jess Ball - Spent\n",
      "Elderbrook - Body - VIP Mix\n",
      "Diplo - Don’t Forget My Love\n",
      "yuma. - Paralyzed\n",
      "Rezz - Paper Walls\n",
      "Elton John - Cold Heart - PNAU Remix\n",
      "Tiësto - The Motto\n",
      "Vintage Culture - You Give Me A Feeling\n",
      "Anabel Englund - Underwater\n",
      "Marsh - Another Planet\n",
      "Diplo - On My Mind\n",
      "Zonderling - Breng\n",
      "Tom Staar - Flames\n",
      "Ben Böhmer - Home\n",
      "BOII - Shelter\n",
      "Kasablanca - Volition\n",
      "MATVEÏ - OVERDOSE\n",
      "Marcus Layton - Sweet Dreams\n",
      "Harrison - Breathe Me In\n",
      "Mahmut Orhan - 6 Days\n",
      "Le Youth - About Us (feat. EMME)\n",
      "Crvvcks - Colours\n",
      "CamelPhat - Cola\n",
      "Monolink - Don't Hold Back - Edit\n",
      "Tchami - Ghosts (feat. Hana)\n",
      "JYYE - Attraction\n",
      "Lost Frequencies - Here With You\n",
      "KREAM - About You\n",
      "Disclosure - You & Me - Flume Remix\n",
      "Ed Sheeran - Bad Habits - MEDUZA Remix\n",
      "Anabel Englund - Picture Us\n",
      "Dennis Lloyd - Nevermind\n",
      "RÜFÜS DU SOL - Always\n",
      "Martin Garrix - Ocean (feat. Khalid) - Don Diablo Remix\n",
      "Oliver Heldens - This Groove\n",
      "Dezza - Coastline\n",
      "Tiësto - The Business\n",
      "Diplo - Promises\n",
      "Regard - Secrets\n",
      "Tube & Berger - All I Want (feat. Goatchy)\n",
      "Nora En Pure - Heart Beating\n",
      "Duke Dumont - Real Life\n",
      "Maverick Sabre - Slow Down (feat. Jorja Smith) - Vintage Culture & Slow Motion Remix\n",
      "Elderbrook - I’ll Find My Way To You\n",
      "Sofi Tukker - Drinkee\n",
      "SG Lewis - Hurting (feat. AlunaGeorge)\n",
      "Tim van Werd - Icarus\n",
      "Martin Garrix - High On Life (feat. Bonn)\n",
      "KREAM - Water (feat. ZOHARA)\n",
      "Kaskade - ICE v3\n",
      "M-22 - First Time - Disco Fries Remix\n",
      "Skrillex - Midnight Hour with Boys Noize & Ty Dolla $ign\n",
      "Don Diablo - Fever\n",
      "David Guetta - Thing For You (With Martin Solveig)\n",
      "The Knocks - Bodies - Lenno Remix\n",
      "Loure - Two Dimes Deep\n",
      "DVBBS - Need U\n",
      "Diplo - Turn Back Time\n",
      "Dynoro - In My Mind\n",
      "ZHU - Working For It\n",
      "Lipless - Losing Myself\n",
      "Calvin Harris - One Kiss (with Dua Lipa)\n",
      "KREAM - What You've Done To Me (feat. Bemendé)\n"
     ]
    }
   ],
   "source": [
    "# We can loop over all tracks and get information about them\n",
    "keys = [\"artist_name\", \"artist_pop\", \"track_name\", \"track_pop\", \"album\", \"key\", \"mode\", \"tempo\", \"duration_ms\", \"time_signature\", \"energy\", \"danceability\", \"instrumentalness\"]\n",
    "artist_keys = [\"artist_name\", \"artist_pop\", \"track_name\", \"track_pop\", \"album\"]\n",
    "audio_keys = [\"key\", \"mode\", \"tempo\", \"duration_ms\", \"time_signature\", \"energy\", \"danceability\", \"instrumentalness\"]\n",
    "dict_data = {key: np.array([]) for key in keys}\n",
    "for track in sp.playlist_tracks(playlist_URI)[\"items\"]:\n",
    "    #URI\n",
    "    track_uri = track[\"track\"][\"uri\"]\n",
    "    \n",
    "    #Track name\n",
    "    track_name = track[\"track\"][\"name\"]\n",
    "    \n",
    "    #Main Artist\n",
    "    artist_uri = track[\"track\"][\"artists\"][0][\"uri\"]\n",
    "    artist_info = sp.artist(artist_uri)\n",
    "    \n",
    "    #Name, popularity, genre\n",
    "    artist_name = track[\"track\"][\"artists\"][0][\"name\"]\n",
    "    artist_pop = artist_info[\"popularity\"]\n",
    "    artist_genres = artist_info[\"genres\"]\n",
    "    \n",
    "    #Album\n",
    "    album = track[\"track\"][\"album\"][\"name\"]\n",
    "    \n",
    "    #Popularity of the track\n",
    "    track_pop = track[\"track\"][\"popularity\"]\n",
    "    \n",
    "    # We get audio features\n",
    "    audio_features = sp.audio_features(track_uri)[0]\n",
    "    \n",
    "    # We save the results\n",
    "    dict_data[\"artist_name\"] = np.append(dict_data[\"artist_name\"], artist_name)\n",
    "    dict_data[\"artist_pop\"] = np.append(dict_data[\"artist_pop\"], artist_pop)\n",
    "    dict_data[\"track_name\"] = np.append(dict_data[\"track_name\"], track_name)\n",
    "    dict_data[\"track_pop\"] = np.append(dict_data[\"track_pop\"], track_pop)\n",
    "    dict_data[\"album\"] = np.append(dict_data[\"album\"], album)\n",
    "    \n",
    "    for audio_key in audio_keys:\n",
    "        dict_data[audio_key] = np.append(dict_data[audio_key], audio_features[audio_key])\n",
    "    \n",
    "    # Prints\n",
    "    print(artist_name, \"-\", track_name)"
   ]
  },
  {
   "cell_type": "code",
   "execution_count": 82,
   "id": "8946eefb",
   "metadata": {},
   "outputs": [],
   "source": [
    "df = pd.DataFrame(dict_data)\n",
    "df.set_index(\"artist_name\", inplace = True)"
   ]
  },
  {
   "cell_type": "code",
   "execution_count": 84,
   "id": "76dec4f5",
   "metadata": {},
   "outputs": [],
   "source": [
    "df.to_csv(\"hypno_deep.csv\", sep = \";\")"
   ]
  }
 ],
 "metadata": {
  "kernelspec": {
   "display_name": "Python 3 (ipykernel)",
   "language": "python",
   "name": "python3"
  },
  "language_info": {
   "codemirror_mode": {
    "name": "ipython",
    "version": 3
   },
   "file_extension": ".py",
   "mimetype": "text/x-python",
   "name": "python",
   "nbconvert_exporter": "python",
   "pygments_lexer": "ipython3",
   "version": "3.7.13"
  }
 },
 "nbformat": 4,
 "nbformat_minor": 5
}
