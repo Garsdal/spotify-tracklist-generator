{
 "cells": [
  {
   "cell_type": "code",
   "execution_count": 1,
   "id": "8653bef9",
   "metadata": {},
   "outputs": [],
   "source": [
    "import requests\n",
    "import base64\n",
    "import pandas as pd\n",
    "import numpy as np\n",
    "import json"
   ]
  },
  {
   "cell_type": "code",
   "execution_count": 2,
   "id": "62b68712",
   "metadata": {},
   "outputs": [],
   "source": [
    "with open('config/config.json', 'r') as f:\n",
    "    config = json.load(f)"
   ]
  },
  {
   "cell_type": "code",
   "execution_count": 3,
   "id": "8cca637b",
   "metadata": {},
   "outputs": [],
   "source": [
    "CLIENT_ID = config['CLIENT_ID']\n",
    "CLIENT_SECRET = config['CLIENT_SECRET']"
   ]
  },
  {
   "cell_type": "markdown",
   "id": "ccdf674c",
   "metadata": {},
   "source": [
    "# POST"
   ]
  },
  {
   "cell_type": "code",
   "execution_count": 4,
   "id": "639ad4e8",
   "metadata": {},
   "outputs": [],
   "source": [
    "AUTH_URL = 'https://accounts.spotify.com/api/token'\n",
    "\n",
    "CLIENT_CREDENTIALS = f'{CLIENT_ID}:{CLIENT_SECRET}'\n",
    "CLIENT_CREDENTIALS_B64 = base64.b64encode(CLIENT_CREDENTIALS.encode())\n",
    "\n",
    "TOKEN_DATA = {\n",
    "    \"grant_type\": \"client_credentials\"\n",
    "}\n",
    "\n",
    "TOKEN_HEADERS = {\n",
    "    \"Authorization\": f\"Basic {CLIENT_CREDENTIALS_B64.decode()}\"\n",
    "}"
   ]
  },
  {
   "cell_type": "code",
   "execution_count": 5,
   "id": "4f359309",
   "metadata": {},
   "outputs": [],
   "source": [
    "REQUEST = requests.post(AUTH_URL, data = TOKEN_DATA, headers = TOKEN_HEADERS)\n",
    "response_data = REQUEST.json()\n",
    "access_token = response_data['access_token']\n",
    "expires_in = response_data['expires_in']"
   ]
  },
  {
   "cell_type": "code",
   "execution_count": 6,
   "id": "cfc41bbf",
   "metadata": {},
   "outputs": [
    {
     "data": {
      "text/plain": [
       "'BQCRpqfscQMi1Fjvv89kElPy0Bj8kv1SEAks9RBopFwO5dsc_Z-hy70v3mNClvDSt79NbvytBCyRUH5cBm5cRrDWPtjLp9Ak9hFKcXVKsZmQPLMg0bY'"
      ]
     },
     "execution_count": 6,
     "metadata": {},
     "output_type": "execute_result"
    }
   ],
   "source": [
    "access_token"
   ]
  },
  {
   "cell_type": "code",
   "execution_count": 7,
   "id": "73e17871",
   "metadata": {},
   "outputs": [
    {
     "data": {
      "text/plain": [
       "3600"
      ]
     },
     "execution_count": 7,
     "metadata": {},
     "output_type": "execute_result"
    }
   ],
   "source": [
    "expires_in"
   ]
  },
  {
   "cell_type": "markdown",
   "id": "17e15d31",
   "metadata": {},
   "source": [
    "# Spotipy"
   ]
  },
  {
   "cell_type": "code",
   "execution_count": 8,
   "id": "0dff7c90",
   "metadata": {},
   "outputs": [],
   "source": [
    "import spotipy\n",
    "from spotipy.oauth2 import SpotifyClientCredentials"
   ]
  },
  {
   "cell_type": "code",
   "execution_count": 9,
   "id": "a0eeeaaa",
   "metadata": {},
   "outputs": [],
   "source": [
    "# Authentication - without user\n",
    "client_credentials_manager = SpotifyClientCredentials(client_id=CLIENT_ID, client_secret=CLIENT_SECRET)\n",
    "sp = spotipy.Spotify(client_credentials_manager = client_credentials_manager)"
   ]
  },
  {
   "cell_type": "code",
   "execution_count": 10,
   "id": "2ec7107f",
   "metadata": {},
   "outputs": [],
   "source": [
    "# We get all tracks in a playlist\n",
    "playlist_link = \"https://open.spotify.com/playlist/0JNQmyPN5iA9e2iYNwE1wy?si=61bc088cae494503\"\n",
    "playlist_URI = playlist_link.split(\"/\")[-1].split(\"?\")[0]\n",
    "track_uris = [x[\"track\"][\"uri\"] for x in sp.playlist_tracks(playlist_URI)[\"items\"]]"
   ]
  },
  {
   "cell_type": "code",
   "execution_count": 11,
   "id": "16f857ad",
   "metadata": {
    "scrolled": false
   },
   "outputs": [
    {
     "name": "stdout",
     "output_type": "stream",
     "text": [
      "AVAION - Pieces\n",
      "SIDEPIECE - Together\n",
      "Kaskade - Turn It Down v3\n",
      "JLV - Chemical Days\n",
      "Swedish House Mafia - Redlight\n",
      "John Summit - Deep End - SIDEPIECE Remix\n",
      "ARTBAT - Horizon\n",
      "Michael Calfan - No Lie\n",
      "Jess Ball - Messed Up\n",
      "SOMMA - Body on Fire\n",
      "Nazzereene - Where I Belong\n"
     ]
    }
   ],
   "source": [
    "# We can loop over all tracks and get information about them\n",
    "keys = [\"artist_name\", \"artist_pop\", \"track_name\", \"track_pop\", \"album\", \"key\", \"mode\", \"tempo\", \"duration_ms\", \"time_signature\", \"energy\", \"danceability\", \"instrumentalness\"]\n",
    "artist_keys = [\"artist_name\", \"artist_pop\", \"track_name\", \"track_pop\", \"album\"]\n",
    "audio_keys = [\"key\", \"mode\", \"tempo\", \"duration_ms\", \"time_signature\", \"energy\", \"danceability\", \"instrumentalness\"]\n",
    "dict_data = {key: np.array([]) for key in keys}\n",
    "for track in sp.playlist_tracks(playlist_URI)[\"items\"][0:11]:  \n",
    "    #URI\n",
    "    track_uri = track[\"track\"][\"uri\"]\n",
    "    \n",
    "    #Track name\n",
    "    track_name = track[\"track\"][\"name\"]\n",
    "    \n",
    "    #Main Artist\n",
    "    artist_uri = track[\"track\"][\"artists\"][0][\"uri\"]\n",
    "    artist_info = sp.artist(artist_uri)\n",
    "    \n",
    "    #Name, popularity, genre\n",
    "    artist_name = track[\"track\"][\"artists\"][0][\"name\"]\n",
    "    artist_pop = artist_info[\"popularity\"]\n",
    "    artist_genres = artist_info[\"genres\"]\n",
    "    \n",
    "    #Album\n",
    "    album = track[\"track\"][\"album\"][\"name\"]\n",
    "    \n",
    "    #Popularity of the track\n",
    "    track_pop = track[\"track\"][\"popularity\"]\n",
    "    \n",
    "    # We get audio features\n",
    "    audio_features = sp.audio_features(track_uri)[0]\n",
    "    \n",
    "    # We look for the preview url\n",
    "    preview_url = track[\"track\"]['preview_url']\n",
    "\n",
    "    # We get the cover url\n",
    "    cover_url = track[\"track\"]['album']['images'][0]['url']\n",
    "    \n",
    "    # We save the results\n",
    "    dict_data[\"artist_name\"] = np.append(dict_data[\"artist_name\"], artist_name)\n",
    "    dict_data[\"artist_pop\"] = np.append(dict_data[\"artist_pop\"], artist_pop)\n",
    "    dict_data[\"track_name\"] = np.append(dict_data[\"track_name\"], track_name)\n",
    "    dict_data[\"track_pop\"] = np.append(dict_data[\"track_pop\"], track_pop)\n",
    "    dict_data[\"album\"] = np.append(dict_data[\"album\"], album)\n",
    "    \n",
    "    for audio_key in audio_keys:\n",
    "        dict_data[audio_key] = np.append(dict_data[audio_key], audio_features[audio_key])\n",
    "    \n",
    "    # Prints\n",
    "    print(artist_name, \"-\", track_name)"
   ]
  },
  {
   "cell_type": "code",
   "execution_count": 12,
   "id": "30abb6b0",
   "metadata": {
    "scrolled": true
   },
   "outputs": [
    {
     "data": {
      "text/plain": [
       "{'danceability': 0.924,\n",
       " 'energy': 0.669,\n",
       " 'key': 0,\n",
       " 'loudness': -4.126,\n",
       " 'mode': 1,\n",
       " 'speechiness': 0.0374,\n",
       " 'acousticness': 0.084,\n",
       " 'instrumentalness': 0.00519,\n",
       " 'liveness': 0.0964,\n",
       " 'valence': 0.891,\n",
       " 'tempo': 109.997,\n",
       " 'type': 'audio_features',\n",
       " 'id': '2K3T7YE6hHjIgUVGlewqjx',\n",
       " 'uri': 'spotify:track:2K3T7YE6hHjIgUVGlewqjx',\n",
       " 'track_href': 'https://api.spotify.com/v1/tracks/2K3T7YE6hHjIgUVGlewqjx',\n",
       " 'analysis_url': 'https://api.spotify.com/v1/audio-analysis/2K3T7YE6hHjIgUVGlewqjx',\n",
       " 'duration_ms': 160364,\n",
       " 'time_signature': 4}"
      ]
     },
     "execution_count": 12,
     "metadata": {},
     "output_type": "execute_result"
    }
   ],
   "source": [
    "audio_features"
   ]
  },
  {
   "cell_type": "code",
   "execution_count": 14,
   "id": "8946eefb",
   "metadata": {},
   "outputs": [],
   "source": [
    "df = pd.DataFrame(dict_data)\n",
    "df.set_index(\"artist_name\", inplace = True)"
   ]
  },
  {
   "cell_type": "code",
   "execution_count": 15,
   "id": "529f9ba5",
   "metadata": {},
   "outputs": [
    {
     "data": {
      "text/html": [
       "<div>\n",
       "<style scoped>\n",
       "    .dataframe tbody tr th:only-of-type {\n",
       "        vertical-align: middle;\n",
       "    }\n",
       "\n",
       "    .dataframe tbody tr th {\n",
       "        vertical-align: top;\n",
       "    }\n",
       "\n",
       "    .dataframe thead th {\n",
       "        text-align: right;\n",
       "    }\n",
       "</style>\n",
       "<table border=\"1\" class=\"dataframe\">\n",
       "  <thead>\n",
       "    <tr style=\"text-align: right;\">\n",
       "      <th></th>\n",
       "      <th>artist_pop</th>\n",
       "      <th>track_name</th>\n",
       "      <th>track_pop</th>\n",
       "      <th>album</th>\n",
       "      <th>key</th>\n",
       "      <th>mode</th>\n",
       "      <th>tempo</th>\n",
       "      <th>duration_ms</th>\n",
       "      <th>time_signature</th>\n",
       "      <th>energy</th>\n",
       "      <th>danceability</th>\n",
       "      <th>instrumentalness</th>\n",
       "    </tr>\n",
       "    <tr>\n",
       "      <th>artist_name</th>\n",
       "      <th></th>\n",
       "      <th></th>\n",
       "      <th></th>\n",
       "      <th></th>\n",
       "      <th></th>\n",
       "      <th></th>\n",
       "      <th></th>\n",
       "      <th></th>\n",
       "      <th></th>\n",
       "      <th></th>\n",
       "      <th></th>\n",
       "      <th></th>\n",
       "    </tr>\n",
       "  </thead>\n",
       "  <tbody>\n",
       "    <tr>\n",
       "      <th>AVAION</th>\n",
       "      <td>63.0</td>\n",
       "      <td>Pieces</td>\n",
       "      <td>73.0</td>\n",
       "      <td>Pieces</td>\n",
       "      <td>4.0</td>\n",
       "      <td>1.0</td>\n",
       "      <td>120.015</td>\n",
       "      <td>196413.0</td>\n",
       "      <td>4.0</td>\n",
       "      <td>0.271</td>\n",
       "      <td>0.700</td>\n",
       "      <td>0.322000</td>\n",
       "    </tr>\n",
       "    <tr>\n",
       "      <th>SIDEPIECE</th>\n",
       "      <td>62.0</td>\n",
       "      <td>Together</td>\n",
       "      <td>62.0</td>\n",
       "      <td>Together</td>\n",
       "      <td>2.0</td>\n",
       "      <td>0.0</td>\n",
       "      <td>125.056</td>\n",
       "      <td>186341.0</td>\n",
       "      <td>4.0</td>\n",
       "      <td>0.749</td>\n",
       "      <td>0.727</td>\n",
       "      <td>0.006660</td>\n",
       "    </tr>\n",
       "    <tr>\n",
       "      <th>Kaskade</th>\n",
       "      <td>66.0</td>\n",
       "      <td>Turn It Down v3</td>\n",
       "      <td>38.0</td>\n",
       "      <td>Turn It Down v3</td>\n",
       "      <td>5.0</td>\n",
       "      <td>0.0</td>\n",
       "      <td>125.006</td>\n",
       "      <td>292354.0</td>\n",
       "      <td>4.0</td>\n",
       "      <td>0.862</td>\n",
       "      <td>0.738</td>\n",
       "      <td>0.028000</td>\n",
       "    </tr>\n",
       "    <tr>\n",
       "      <th>JLV</th>\n",
       "      <td>51.0</td>\n",
       "      <td>Chemical Days</td>\n",
       "      <td>58.0</td>\n",
       "      <td>Chemical Days</td>\n",
       "      <td>5.0</td>\n",
       "      <td>0.0</td>\n",
       "      <td>124.019</td>\n",
       "      <td>175183.0</td>\n",
       "      <td>4.0</td>\n",
       "      <td>0.834</td>\n",
       "      <td>0.745</td>\n",
       "      <td>0.483000</td>\n",
       "    </tr>\n",
       "    <tr>\n",
       "      <th>Swedish House Mafia</th>\n",
       "      <td>76.0</td>\n",
       "      <td>Redlight</td>\n",
       "      <td>16.0</td>\n",
       "      <td>Redlight</td>\n",
       "      <td>2.0</td>\n",
       "      <td>1.0</td>\n",
       "      <td>125.012</td>\n",
       "      <td>242905.0</td>\n",
       "      <td>4.0</td>\n",
       "      <td>0.655</td>\n",
       "      <td>0.716</td>\n",
       "      <td>0.162000</td>\n",
       "    </tr>\n",
       "    <tr>\n",
       "      <th>John Summit</th>\n",
       "      <td>66.0</td>\n",
       "      <td>Deep End - SIDEPIECE Remix</td>\n",
       "      <td>65.0</td>\n",
       "      <td>Deep End (SIDEPIECE Remix)</td>\n",
       "      <td>11.0</td>\n",
       "      <td>0.0</td>\n",
       "      <td>126.007</td>\n",
       "      <td>196687.0</td>\n",
       "      <td>4.0</td>\n",
       "      <td>0.652</td>\n",
       "      <td>0.773</td>\n",
       "      <td>0.024000</td>\n",
       "    </tr>\n",
       "    <tr>\n",
       "      <th>ARTBAT</th>\n",
       "      <td>59.0</td>\n",
       "      <td>Horizon</td>\n",
       "      <td>63.0</td>\n",
       "      <td>Horizon</td>\n",
       "      <td>5.0</td>\n",
       "      <td>0.0</td>\n",
       "      <td>124.023</td>\n",
       "      <td>464516.0</td>\n",
       "      <td>4.0</td>\n",
       "      <td>0.660</td>\n",
       "      <td>0.647</td>\n",
       "      <td>0.914000</td>\n",
       "    </tr>\n",
       "    <tr>\n",
       "      <th>Michael Calfan</th>\n",
       "      <td>59.0</td>\n",
       "      <td>No Lie</td>\n",
       "      <td>47.0</td>\n",
       "      <td>No Lie</td>\n",
       "      <td>1.0</td>\n",
       "      <td>0.0</td>\n",
       "      <td>122.034</td>\n",
       "      <td>166992.0</td>\n",
       "      <td>4.0</td>\n",
       "      <td>0.701</td>\n",
       "      <td>0.719</td>\n",
       "      <td>0.121000</td>\n",
       "    </tr>\n",
       "    <tr>\n",
       "      <th>Jess Ball</th>\n",
       "      <td>47.0</td>\n",
       "      <td>Messed Up</td>\n",
       "      <td>33.0</td>\n",
       "      <td>Messed Up</td>\n",
       "      <td>2.0</td>\n",
       "      <td>0.0</td>\n",
       "      <td>140.993</td>\n",
       "      <td>131489.0</td>\n",
       "      <td>4.0</td>\n",
       "      <td>0.515</td>\n",
       "      <td>0.816</td>\n",
       "      <td>0.000001</td>\n",
       "    </tr>\n",
       "    <tr>\n",
       "      <th>SOMMA</th>\n",
       "      <td>61.0</td>\n",
       "      <td>Body on Fire</td>\n",
       "      <td>64.0</td>\n",
       "      <td>Body on Fire</td>\n",
       "      <td>9.0</td>\n",
       "      <td>0.0</td>\n",
       "      <td>125.024</td>\n",
       "      <td>159180.0</td>\n",
       "      <td>4.0</td>\n",
       "      <td>0.691</td>\n",
       "      <td>0.735</td>\n",
       "      <td>0.018600</td>\n",
       "    </tr>\n",
       "    <tr>\n",
       "      <th>Nazzereene</th>\n",
       "      <td>45.0</td>\n",
       "      <td>Where I Belong</td>\n",
       "      <td>16.0</td>\n",
       "      <td>Where I Belong</td>\n",
       "      <td>0.0</td>\n",
       "      <td>1.0</td>\n",
       "      <td>109.997</td>\n",
       "      <td>160364.0</td>\n",
       "      <td>4.0</td>\n",
       "      <td>0.669</td>\n",
       "      <td>0.924</td>\n",
       "      <td>0.005190</td>\n",
       "    </tr>\n",
       "  </tbody>\n",
       "</table>\n",
       "</div>"
      ],
      "text/plain": [
       "                     artist_pop                  track_name  track_pop  \\\n",
       "artist_name                                                              \n",
       "AVAION                     63.0                      Pieces       73.0   \n",
       "SIDEPIECE                  62.0                    Together       62.0   \n",
       "Kaskade                    66.0             Turn It Down v3       38.0   \n",
       "JLV                        51.0               Chemical Days       58.0   \n",
       "Swedish House Mafia        76.0                    Redlight       16.0   \n",
       "John Summit                66.0  Deep End - SIDEPIECE Remix       65.0   \n",
       "ARTBAT                     59.0                     Horizon       63.0   \n",
       "Michael Calfan             59.0                      No Lie       47.0   \n",
       "Jess Ball                  47.0                   Messed Up       33.0   \n",
       "SOMMA                      61.0                Body on Fire       64.0   \n",
       "Nazzereene                 45.0              Where I Belong       16.0   \n",
       "\n",
       "                                          album   key  mode    tempo  \\\n",
       "artist_name                                                            \n",
       "AVAION                                   Pieces   4.0   1.0  120.015   \n",
       "SIDEPIECE                              Together   2.0   0.0  125.056   \n",
       "Kaskade                         Turn It Down v3   5.0   0.0  125.006   \n",
       "JLV                               Chemical Days   5.0   0.0  124.019   \n",
       "Swedish House Mafia                    Redlight   2.0   1.0  125.012   \n",
       "John Summit          Deep End (SIDEPIECE Remix)  11.0   0.0  126.007   \n",
       "ARTBAT                                  Horizon   5.0   0.0  124.023   \n",
       "Michael Calfan                           No Lie   1.0   0.0  122.034   \n",
       "Jess Ball                             Messed Up   2.0   0.0  140.993   \n",
       "SOMMA                              Body on Fire   9.0   0.0  125.024   \n",
       "Nazzereene                       Where I Belong   0.0   1.0  109.997   \n",
       "\n",
       "                     duration_ms  time_signature  energy  danceability  \\\n",
       "artist_name                                                              \n",
       "AVAION                  196413.0             4.0   0.271         0.700   \n",
       "SIDEPIECE               186341.0             4.0   0.749         0.727   \n",
       "Kaskade                 292354.0             4.0   0.862         0.738   \n",
       "JLV                     175183.0             4.0   0.834         0.745   \n",
       "Swedish House Mafia     242905.0             4.0   0.655         0.716   \n",
       "John Summit             196687.0             4.0   0.652         0.773   \n",
       "ARTBAT                  464516.0             4.0   0.660         0.647   \n",
       "Michael Calfan          166992.0             4.0   0.701         0.719   \n",
       "Jess Ball               131489.0             4.0   0.515         0.816   \n",
       "SOMMA                   159180.0             4.0   0.691         0.735   \n",
       "Nazzereene              160364.0             4.0   0.669         0.924   \n",
       "\n",
       "                     instrumentalness  \n",
       "artist_name                            \n",
       "AVAION                       0.322000  \n",
       "SIDEPIECE                    0.006660  \n",
       "Kaskade                      0.028000  \n",
       "JLV                          0.483000  \n",
       "Swedish House Mafia          0.162000  \n",
       "John Summit                  0.024000  \n",
       "ARTBAT                       0.914000  \n",
       "Michael Calfan               0.121000  \n",
       "Jess Ball                    0.000001  \n",
       "SOMMA                        0.018600  \n",
       "Nazzereene                   0.005190  "
      ]
     },
     "execution_count": 15,
     "metadata": {},
     "output_type": "execute_result"
    }
   ],
   "source": [
    "df"
   ]
  },
  {
   "cell_type": "code",
   "execution_count": 134,
   "id": "76dec4f5",
   "metadata": {},
   "outputs": [],
   "source": [
    "#df.to_csv(\"hypno_deep.csv\", sep = \";\")"
   ]
  },
  {
   "cell_type": "markdown",
   "id": "c86a5c3e",
   "metadata": {},
   "source": [
    "# Get images"
   ]
  },
  {
   "cell_type": "code",
   "execution_count": 16,
   "id": "39872a0a",
   "metadata": {},
   "outputs": [],
   "source": [
    "sample = df.sample(1)"
   ]
  },
  {
   "cell_type": "code",
   "execution_count": 17,
   "id": "65886758",
   "metadata": {},
   "outputs": [
    {
     "data": {
      "text/html": [
       "<div>\n",
       "<style scoped>\n",
       "    .dataframe tbody tr th:only-of-type {\n",
       "        vertical-align: middle;\n",
       "    }\n",
       "\n",
       "    .dataframe tbody tr th {\n",
       "        vertical-align: top;\n",
       "    }\n",
       "\n",
       "    .dataframe thead th {\n",
       "        text-align: right;\n",
       "    }\n",
       "</style>\n",
       "<table border=\"1\" class=\"dataframe\">\n",
       "  <thead>\n",
       "    <tr style=\"text-align: right;\">\n",
       "      <th></th>\n",
       "      <th>artist_pop</th>\n",
       "      <th>track_name</th>\n",
       "      <th>track_pop</th>\n",
       "      <th>album</th>\n",
       "      <th>key</th>\n",
       "      <th>mode</th>\n",
       "      <th>tempo</th>\n",
       "      <th>duration_ms</th>\n",
       "      <th>time_signature</th>\n",
       "      <th>energy</th>\n",
       "      <th>danceability</th>\n",
       "      <th>instrumentalness</th>\n",
       "    </tr>\n",
       "    <tr>\n",
       "      <th>artist_name</th>\n",
       "      <th></th>\n",
       "      <th></th>\n",
       "      <th></th>\n",
       "      <th></th>\n",
       "      <th></th>\n",
       "      <th></th>\n",
       "      <th></th>\n",
       "      <th></th>\n",
       "      <th></th>\n",
       "      <th></th>\n",
       "      <th></th>\n",
       "      <th></th>\n",
       "    </tr>\n",
       "  </thead>\n",
       "  <tbody>\n",
       "    <tr>\n",
       "      <th>SOMMA</th>\n",
       "      <td>61.0</td>\n",
       "      <td>Body on Fire</td>\n",
       "      <td>64.0</td>\n",
       "      <td>Body on Fire</td>\n",
       "      <td>9.0</td>\n",
       "      <td>0.0</td>\n",
       "      <td>125.024</td>\n",
       "      <td>159180.0</td>\n",
       "      <td>4.0</td>\n",
       "      <td>0.691</td>\n",
       "      <td>0.735</td>\n",
       "      <td>0.0186</td>\n",
       "    </tr>\n",
       "  </tbody>\n",
       "</table>\n",
       "</div>"
      ],
      "text/plain": [
       "             artist_pop    track_name  track_pop         album  key  mode  \\\n",
       "artist_name                                                                 \n",
       "SOMMA              61.0  Body on Fire       64.0  Body on Fire  9.0   0.0   \n",
       "\n",
       "               tempo  duration_ms  time_signature  energy  danceability  \\\n",
       "artist_name                                                               \n",
       "SOMMA        125.024     159180.0             4.0   0.691         0.735   \n",
       "\n",
       "             instrumentalness  \n",
       "artist_name                    \n",
       "SOMMA                  0.0186  "
      ]
     },
     "execution_count": 17,
     "metadata": {},
     "output_type": "execute_result"
    }
   ],
   "source": [
    "sample"
   ]
  },
  {
   "cell_type": "code",
   "execution_count": 18,
   "id": "6c288dc3",
   "metadata": {},
   "outputs": [],
   "source": [
    "artist = sample.index[0]\n",
    "track = sample['track_name']"
   ]
  },
  {
   "cell_type": "code",
   "execution_count": 19,
   "id": "035c8b13",
   "metadata": {},
   "outputs": [],
   "source": [
    "result = sp.search(q=\"artist:\" + artist + \" track:\" + track, type=\"track\")"
   ]
  },
  {
   "cell_type": "code",
   "execution_count": 21,
   "id": "053d2f80",
   "metadata": {},
   "outputs": [],
   "source": [
    "image_url = result['tracks']['items'][0]['album']['images'][1]['url']"
   ]
  },
  {
   "cell_type": "code",
   "execution_count": 22,
   "id": "eff9a362",
   "metadata": {},
   "outputs": [],
   "source": [
    "from PIL import Image\n",
    "from io import BytesIO\n",
    "\n",
    "response = requests.get(image_url)\n",
    "img = Image.open(BytesIO(response.content))"
   ]
  },
  {
   "cell_type": "code",
   "execution_count": 23,
   "id": "cd45c65b",
   "metadata": {
    "scrolled": true
   },
   "outputs": [
    {
     "data": {
      "image/png": "[encoded data removed]",
      "text/plain": [
       "<PIL.JpegImagePlugin.JpegImageFile image mode=RGB size=300x300>"
      ]
     },
     "execution_count": 23,
     "metadata": {},
     "output_type": "execute_result"
    }
   ],
   "source": [
    "img"
   ]
  },
  {
   "cell_type": "markdown",
   "id": "bd59bfb3",
   "metadata": {},
   "source": [
    "# Get preview"
   ]
  },
  {
   "cell_type": "code",
   "execution_count": 24,
   "id": "7771137b",
   "metadata": {},
   "outputs": [
    {
     "ename": "ModuleNotFoundError",
     "evalue": "No module named 'simpleaudio'",
     "output_type": "error",
     "traceback": [
      "\u001b[1;31m---------------------------------------------------------------------------\u001b[0m",
      "\u001b[1;31mModuleNotFoundError\u001b[0m                       Traceback (most recent call last)",
      "\u001b[1;32m~\\AppData\\Local\\Temp\\ipykernel_16916\\2220298759.py\u001b[0m in \u001b[0;36m<module>\u001b[1;34m\u001b[0m\n\u001b[1;32m----> 1\u001b[1;33m \u001b[1;32mimport\u001b[0m \u001b[0msimpleaudio\u001b[0m\u001b[1;33m\u001b[0m\u001b[1;33m\u001b[0m\u001b[0m\n\u001b[0m",
      "\u001b[1;31mModuleNotFoundError\u001b[0m: No module named 'simpleaudio'"
     ]
    }
   ],
   "source": [
    "import simpleaudio"
   ]
  },
  {
   "cell_type": "code",
   "execution_count": 25,
   "id": "9949c8d4",
   "metadata": {},
   "outputs": [
    {
     "data": {
      "text/plain": [
       "'https://p.scdn.co/mp3-preview/4214e7f92a516481d7f04061173cdf0e8a3563d7?cid=a7c0ec514e3d4382acfa62c3417957ee'"
      ]
     },
     "execution_count": 25,
     "metadata": {},
     "output_type": "execute_result"
    }
   ],
   "source": [
    "preview_url = result['tracks']['items'][0]['preview_url']\n",
    "preview_url"
   ]
  },
  {
   "cell_type": "code",
   "execution_count": 26,
   "id": "2e2eb967",
   "metadata": {},
   "outputs": [],
   "source": [
    "import vlc"
   ]
  },
  {
   "cell_type": "code",
   "execution_count": 27,
   "id": "8bd1d337",
   "metadata": {},
   "outputs": [],
   "source": [
    "instance = vlc.Instance('--input-repeat=-1', '--fullscreen')"
   ]
  },
  {
   "cell_type": "code",
   "execution_count": 28,
   "id": "29b6fd20",
   "metadata": {},
   "outputs": [
    {
     "data": {
      "text/plain": [
       "0"
      ]
     },
     "execution_count": 28,
     "metadata": {},
     "output_type": "execute_result"
    }
   ],
   "source": [
    "#Define VLC player\n",
    "player=instance.media_player_new()\n",
    "\n",
    "#Define VLC media\n",
    "media=instance.media_new(preview_url)\n",
    "\n",
    "#Set player media\n",
    "player.set_media(media)\n",
    "\n",
    "#Play the media\n",
    "player.play()"
   ]
  },
  {
   "cell_type": "code",
   "execution_count": 29,
   "id": "a2f95cd2",
   "metadata": {},
   "outputs": [],
   "source": [
    "player.stop()"
   ]
  }
 ],
 "metadata": {
  "kernelspec": {
   "display_name": "Python 3 (ipykernel)",
   "language": "python",
   "name": "python3"
  },
  "language_info": {
   "codemirror_mode": {
    "name": "ipython",
    "version": 3
   },
   "file_extension": ".py",
   "mimetype": "text/x-python",
   "name": "python",
   "nbconvert_exporter": "python",
   "pygments_lexer": "ipython3",
   "version": "3.7.13"
  }
 },
 "nbformat": 4,
 "nbformat_minor": 5
}
